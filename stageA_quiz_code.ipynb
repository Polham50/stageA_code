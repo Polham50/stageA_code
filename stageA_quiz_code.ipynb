{
 "cells": [
  {
   "cell_type": "code",
   "execution_count": null,
   "id": "704d25b8",
   "metadata": {},
   "outputs": [],
   "source": [
    "import numpy as np\n",
    "import pandas as pd"
   ]
  },
  {
   "cell_type": "code",
   "execution_count": null,
   "id": "0933cf81",
   "metadata": {},
   "outputs": [],
   "source": [
    "datasets=pd.read_csv('hamoye.csv')"
   ]
  },
  {
   "cell_type": "code",
   "execution_count": null,
   "id": "6ffe5d54",
   "metadata": {},
   "outputs": [],
   "source": [
    "datasets.shape"
   ]
  },
  {
   "cell_type": "code",
   "execution_count": null,
   "id": "379ccbe7",
   "metadata": {},
   "outputs": [],
   "source": [
    "datasets.groupby(['Item']).sum()"
   ]
  },
  {
   "cell_type": "code",
   "execution_count": null,
   "id": "04778293",
   "metadata": {},
   "outputs": [],
   "source": [
    "datasets.std()"
   ]
  },
  {
   "cell_type": "code",
   "execution_count": null,
   "id": "b6db0160",
   "metadata": {},
   "outputs": [],
   "source": [
    "percent_missing = datasets. isnull(). sum() * 100 / len(datasets)"
   ]
  },
  {
   "cell_type": "code",
   "execution_count": null,
   "id": "823628e4",
   "metadata": {},
   "outputs": [],
   "source": [
    "percent_missing"
   ]
  },
  {
   "cell_type": "code",
   "execution_count": null,
   "id": "eb72a339",
   "metadata": {},
   "outputs": [],
   "source": [
    "coeff= datasets.corr()"
   ]
  },
  {
   "cell_type": "code",
   "execution_count": null,
   "id": "f44940b7",
   "metadata": {},
   "outputs": [],
   "source": [
    "coeff"
   ]
  },
  {
   "cell_type": "code",
   "execution_count": null,
   "id": "8c4def12",
   "metadata": {},
   "outputs": [],
   "source": [
    "datasets.groupby(['Element']).sum()"
   ]
  },
  {
   "cell_type": "code",
   "execution_count": null,
   "id": "bee9a4c8",
   "metadata": {},
   "outputs": [],
   "source": [
    "datasets.groupby(['Element']).sum()"
   ]
  },
  {
   "cell_type": "code",
   "execution_count": null,
   "id": "472126cb",
   "metadata": {},
   "outputs": [],
   "source": [
    "datasets.groupby(['Area','Element']).sum()"
   ]
  }
 ],
 "metadata": {
  "kernelspec": {
   "display_name": "Python 3 (ipykernel)",
   "language": "python",
   "name": "python3"
  },
  "language_info": {
   "codemirror_mode": {
    "name": "ipython",
    "version": 3
   },
   "file_extension": ".py",
   "mimetype": "text/x-python",
   "name": "python",
   "nbconvert_exporter": "python",
   "pygments_lexer": "ipython3",
   "version": "3.9.7"
  }
 },
 "nbformat": 4,
 "nbformat_minor": 5
}
